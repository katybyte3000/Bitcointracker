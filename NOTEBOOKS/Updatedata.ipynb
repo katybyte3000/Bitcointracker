{
 "cells": [
  {
   "cell_type": "markdown",
   "id": "91dbdde0",
   "metadata": {},
   "source": [
    "# Data send to supabase"
   ]
  },
  {
   "cell_type": "markdown",
   "id": "19ce1873",
   "metadata": {},
   "source": [
    "# Spabase Table Creation"
   ]
  },
  {
   "cell_type": "code",
   "execution_count": 5,
   "id": "d7d15ae2",
   "metadata": {},
   "outputs": [],
   "source": [
    "import psycopg\n",
    "import requests\n",
    "import os\n",
    "from dotenv import load_dotenv\n",
    "import pandas as pd\n",
    "\n",
    "\n",
    "load_dotenv()\n",
    "dbconn = os.getenv(\"DBCONN\")\n",
    "\n",
    "\n",
    "def create_table():\n",
    "    conn = psycopg.connect(dbconn)\n",
    "    cur = conn.cursor()\n",
    "    cur.execute(\n",
    "        '''\n",
    "            CREATE TABLE IF NOT EXISTS api_data(\n",
    "                date TIMESTAMP PRIMARY KEY,\n",
    "                open FLOAT,\n",
    "                close FLOAT\n",
    "            );\n",
    "        '''\n",
    "    )\n",
    "    conn.commit()\n",
    "    cur.close()\n",
    "    conn.close()\n",
    "\n",
    "create_table()"
   ]
  },
  {
   "cell_type": "markdown",
   "id": "7aeefad8",
   "metadata": {},
   "source": [
    "# Sending Data to Supabase"
   ]
  },
  {
   "cell_type": "code",
   "execution_count": 7,
   "id": "3d84a932",
   "metadata": {},
   "outputs": [],
   "source": [
    "from datetime import datetime\n",
    "\n",
    "conn = psycopg.connect(dbconn)\n",
    "cur = conn.cursor()\n",
    "\n",
    "def fill_table():\n",
    "    cur.execute(\n",
    "        '''\n",
    "            INSERT INTO api_data(date, open, close)\n",
    "            VALUES (%s, %s, %s);\n",
    "        ''', \n",
    "        (datetime.strptime(\"2025-06-12\", \"%Y-%m-%d\"), \"92676.24000000\", \"92680.67000000\")\n",
    "    )\n",
    "\n",
    "    conn.commit()\n",
    "    cur.close()\n",
    "    conn.close()"
   ]
  }
 ],
 "metadata": {
  "kernelspec": {
   "display_name": "base",
   "language": "python",
   "name": "python3"
  },
  "language_info": {
   "codemirror_mode": {
    "name": "ipython",
    "version": 3
   },
   "file_extension": ".py",
   "mimetype": "text/x-python",
   "name": "python",
   "nbconvert_exporter": "python",
   "pygments_lexer": "ipython3",
   "version": "3.12.7"
  }
 },
 "nbformat": 4,
 "nbformat_minor": 5
}
